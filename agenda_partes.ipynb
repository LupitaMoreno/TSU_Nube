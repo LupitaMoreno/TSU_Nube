{
 "cells": [
  {
   "cell_type": "code",
   "execution_count": 3,
   "metadata": {},
   "outputs": [
    {
     "name": "stdout",
     "output_type": "stream",
     "text": [
      "Agenda telefónica \n",
      " Menú de opciones \n",
      " 1) Agregar un contacto nuevo \n",
      " 2) Buscar un contacto\n",
      " 3) Eliminar un contacto \n",
      " 4) Editar un contacto\n",
      " 5) Salir\n",
      "Elegiste la siguiente acción:\n",
      "Agregar contacto nuevo\n",
      "Ingresa los elementos que se van solicitando\n",
      "id ___ 1\n",
      "Contacto agregado\n",
      "Nombre : Juan\n",
      "Apellido : Pérez\n",
      "Teléfono : 555 123 1234\n",
      "email : juan\n",
      "  Id Nombre Apellido      Teléfono email\n",
      "0  1   Juan    Pérez  555 123 1234  juan\n",
      "Ingresa los elementos que se van solicitando\n",
      "Vuelve a ingresar el teléfono con el formato solicitado\n",
      "id ___ 2\n",
      "Contacto agregado\n",
      "Nombre : jorge\n",
      "Apellido : Vazquez\n",
      "Teléfono : 555 123 2345\n",
      "email : jorge\n",
      "  Id Nombre Apellido      Teléfono  email\n",
      "1  2  jorge  Vazquez  555 123 2345  jorge\n",
      "Agenda telefónica \n",
      " Menú de opciones \n",
      " 1) Agregar un contacto nuevo \n",
      " 2) Buscar un contacto\n",
      " 3) Eliminar un contacto \n",
      " 4) Editar un contacto\n",
      " 5) Salir\n",
      "Elegiste la siguiente acción:\n",
      "Buscar un contacto\n",
      "Agenda telefónica \n",
      " Menú de opciones \n",
      " 1) Agregar un contacto nuevo \n",
      " 2) Buscar un contacto\n",
      " 3) Eliminar un contacto \n",
      " 4) Editar un contacto\n",
      " 5) Salir\n",
      "Elegiste la siguiente acción:\n",
      "Buscar un contacto\n",
      "Agenda telefónica \n",
      " Menú de opciones \n",
      " 1) Agregar un contacto nuevo \n",
      " 2) Buscar un contacto\n",
      " 3) Eliminar un contacto \n",
      " 4) Editar un contacto\n",
      " 5) Salir\n",
      "Elegiste la siguiente acción:\n",
      "Cerrar la agenda\n"
     ]
    }
   ],
   "source": [
    "import re\n",
    "import pandas as pd\n",
    "\n",
    "#Buscar un contacto\n",
    "#Eliminar contacto\n",
    "#Editar un contacto\n",
    "\n",
    "#Funcion para validar un numero teléfonico \n",
    "def validar_numero_telefonico(telefono):\n",
    "    regex = r'^\\d{3} \\d{3} \\d{4}$'\n",
    "    if re.match(regex, telefono):\n",
    "        return True \n",
    "    else :\n",
    "        return False\n",
    "#Done. Ingresar multiples contactos hasta que se escriba la cadena 'parar'\n",
    "\n",
    "# Validacion: 1) contacto repetido, 2) contacto o numero repetido ,\n",
    "\n",
    "#4) Se debe poder ingresar un contacto completo o una parte\n",
    "\n",
    "# Funciones que pueden ayudar al debug. mostrar todos los contactos, mostrar un subconjunto de contactos, ordenar contactos, buscar por diferentes parametros\n",
    "\n",
    "# Done. Seria buena idea un ID interno ?\n",
    "\n",
    "#Agregar un nuevo contacto\n",
    "def agregar_info_contacto(id) :\n",
    "    print('Ingresa los elementos que se van solicitando')\n",
    "    nombre = input('Nombre: ')\n",
    "    name = nombre\n",
    "    apellido = input('Apellido: ')\n",
    "    last_name = apellido\n",
    "    #Validando que el número telefónico cumpla el formato \n",
    "    telefono_valido = False\n",
    "    while telefono_valido == False :\n",
    "        telefono = input('Teléfono a diez dígitos escritos de la siguiente forma: 3 dígitos espacio tres dígitos espacio 4 dígitos Ej. 556 293 28974: ')\n",
    "        tel = str(telefono)\n",
    "        if validar_numero_telefonico(tel) :\n",
    "            telefono_valido = True\n",
    "        else :\n",
    "            print('Vuelve a ingresar el teléfono con el formato solicitado')\n",
    "\n",
    "    correo = input('Correo electrónico: ')\n",
    "    e_mail = correo\n",
    "    id += 1 \n",
    "    contacto ={'Id': [id],'Nombre': [name], 'Apellido': [last_name], 'Teléfono': [tel], 'email': [e_mail]}\n",
    "    #print(pd.DataFrame(contacto))\n",
    "    return(contacto, id)\n",
    "#Recopilar información de búsqueda\n",
    "def agregar_info_busqueda() :\n",
    "#Intento fallido de asignar valores nan a las variables a traves de su nombre iterando en una lista\n",
    "#for a in contacto_list :\n",
    "#    print(a)\n",
    "#    a = np.nan\n",
    "\n",
    "    id = None\n",
    "    name = None\n",
    "    last_name  = None\n",
    "    tel = None\n",
    "    e_mail = None\n",
    "    print('Entre mas elementos ingreses, tu busqueda será más precisa')\n",
    "    opcion = 0\n",
    "    while   opcion != 5 :\n",
    "        opcion = int(input('Ingresa el número que indique el elemento por el cual quieres buscar \\n 1) Nombre \\n 2) Apellido\\n 3)Teléfono\\n 4)Correo electrónico\\n 5)No tengo más elementos '))\n",
    "        #print(opcion)\n",
    "        if opcion == 1:\n",
    "            name = input(\"Nombre:\")\n",
    "        elif opcion == 2:\n",
    "            last_name = input(\"Apellido:\")\n",
    "        elif opcion == 3:\n",
    "            tel = input(\"Teléfono:\")\n",
    "        elif opcion == 4:\n",
    "            e_mail = input(\"Correo electrónico:\")\n",
    "        elif opcion == 5:\n",
    "            print('El elemento que buscas es el siguiente:')\n",
    "            contacto ={'Id': [id],'Nombre': [name], 'Apellido': [last_name], 'Teléfono': [tel], 'email': [e_mail]} \n",
    "            for key, value in contacto.items() :\n",
    "                if key != 'Id' :\n",
    "                    if value[0] != None :\n",
    "                        print(key, ':', value[0])\n",
    "            return(contacto)\n",
    "        else:\n",
    "            print('Escoge una opcion válida')\n",
    "     \n",
    "\n"
   ]
  },
  {
   "cell_type": "code",
   "execution_count": 7,
   "metadata": {},
   "outputs": [
    {
     "name": "stdout",
     "output_type": "stream",
     "text": [
      "Agenda telefónica \n",
      " Menú de opciones \n",
      " 1) Agregar un contacto nuevo \n",
      " 2) Buscar un contacto\n",
      " 3) Eliminar un contacto \n",
      " 4) Editar un contacto\n",
      " 5) Salir\n",
      "Elegiste la siguiente acción:\n",
      "Agregar contacto nuevo\n",
      "Ingresa los elementos que se van solicitando\n",
      "Contacto agregado\n",
      "Nombre : Violeta\n",
      "Apellido : García Pérez\n",
      "Teléfono : 555 123 7890\n",
      "email : violeta\n",
      "Ingresa los elementos que se van solicitando\n",
      "Contacto agregado\n",
      "Nombre : Karla\n",
      "Apellido : Hernández \n",
      "Teléfono : 555 123 8901\n",
      "email : karla\n",
      "Agenda telefónica \n",
      " Menú de opciones \n",
      " 1) Agregar un contacto nuevo \n",
      " 2) Buscar un contacto\n",
      " 3) Eliminar un contacto \n",
      " 4) Editar un contacto\n",
      " 5) Salir\n",
      "Elegiste la siguiente acción:\n",
      "Buscar un contacto\n",
      "Entre mas elementos ingreses, tu busqueda será más precisa\n",
      "El elemento que buscas es el siguiente:\n",
      "Nombre : Vera\n",
      "Teléfono : 555 123 4567\n"
     ]
    }
   ],
   "source": [
    "id = 0    \n",
    "agenda = pd.DataFrame(columns = ['Id','Nombre', 'Apellido', 'Teléfono', 'email'])\n",
    "# Menu principal\n",
    "while True:   \n",
    "    print('Agenda telefónica \\n Menú de opciones \\n 1) Agregar un contacto nuevo \\n 2) Buscar un contacto\\n 3) Eliminar un contacto \\n 4) Editar un contacto\\n 5) Salir')\n",
    "    opcion = input('Elige el número de la opción que desees: ')\n",
    "    opcion = int(opcion)\n",
    "    #print(opcion)\n",
    "    print('Elegiste la siguiente acción:')\n",
    "    if opcion == 1:\n",
    "        continuar = 'continuar'\n",
    "        print('Agregar contacto nuevo')\n",
    "        while continuar.lower() != 'parar' :\n",
    "            contacto , id = agregar_info_contacto(id)\n",
    "            #print('id ___',id)\n",
    "            print('Contacto agregado')\n",
    "            for key, value in contacto.items() :\n",
    "                if key != 'Id' :\n",
    "                    if value[0] != None :\n",
    "                        print(key, ':', value[0])\n",
    "            agenda = pd.concat([agenda,pd.DataFrame(contacto)] ,ignore_index=True)\n",
    "            #print(agenda[agenda['Id']== id])\n",
    "            continuar = input('Escribe \"parar\" si ya no quieres agregar otro contacto de otro modo escribe c de continuar: ')\n",
    "    elif opcion == 2:\n",
    "        print(\"Buscar un contacto\")\n",
    "        contacto = agregar_info_busqueda()\n",
    "        break\n",
    "    elif opcion == 3:\n",
    "        print(\"Eliminar un contacto\")\n",
    "    elif opcion == 4:\n",
    "        print(\"Editar un contacto\")\n",
    "    elif opcion == 5:\n",
    "        print(\"Cerrar la agenda\")\n",
    "        break  \n",
    "    else:\n",
    "        print('Elige una opcion que se encuentre en el menú')\n",
    "\n",
    "\n",
    "\n"
   ]
  },
  {
   "cell_type": "code",
   "execution_count": 8,
   "metadata": {},
   "outputs": [
    {
     "data": {
      "text/html": [
       "<div>\n",
       "<style scoped>\n",
       "    .dataframe tbody tr th:only-of-type {\n",
       "        vertical-align: middle;\n",
       "    }\n",
       "\n",
       "    .dataframe tbody tr th {\n",
       "        vertical-align: top;\n",
       "    }\n",
       "\n",
       "    .dataframe thead th {\n",
       "        text-align: right;\n",
       "    }\n",
       "</style>\n",
       "<table border=\"1\" class=\"dataframe\">\n",
       "  <thead>\n",
       "    <tr style=\"text-align: right;\">\n",
       "      <th></th>\n",
       "      <th>Id</th>\n",
       "      <th>Nombre</th>\n",
       "      <th>Apellido</th>\n",
       "      <th>Teléfono</th>\n",
       "      <th>email</th>\n",
       "    </tr>\n",
       "  </thead>\n",
       "  <tbody>\n",
       "    <tr>\n",
       "      <th>0</th>\n",
       "      <td>1</td>\n",
       "      <td>Violeta</td>\n",
       "      <td>García Pérez</td>\n",
       "      <td>555 123 7890</td>\n",
       "      <td>violeta</td>\n",
       "    </tr>\n",
       "    <tr>\n",
       "      <th>1</th>\n",
       "      <td>2</td>\n",
       "      <td>Karla</td>\n",
       "      <td>Hernández</td>\n",
       "      <td>555 123 8901</td>\n",
       "      <td>karla</td>\n",
       "    </tr>\n",
       "  </tbody>\n",
       "</table>\n",
       "</div>"
      ],
      "text/plain": [
       "  Id   Nombre      Apellido      Teléfono    email\n",
       "0  1  Violeta  García Pérez  555 123 7890  violeta\n",
       "1  2    Karla    Hernández   555 123 8901    karla"
      ]
     },
     "execution_count": 8,
     "metadata": {},
     "output_type": "execute_result"
    }
   ],
   "source": [
    "agenda"
   ]
  },
  {
   "cell_type": "code",
   "execution_count": 12,
   "metadata": {},
   "outputs": [],
   "source": [
    "agenda_prueba = agenda\n"
   ]
  },
  {
   "cell_type": "code",
   "execution_count": 13,
   "metadata": {},
   "outputs": [
    {
     "data": {
      "text/html": [
       "<div>\n",
       "<style scoped>\n",
       "    .dataframe tbody tr th:only-of-type {\n",
       "        vertical-align: middle;\n",
       "    }\n",
       "\n",
       "    .dataframe tbody tr th {\n",
       "        vertical-align: top;\n",
       "    }\n",
       "\n",
       "    .dataframe thead th {\n",
       "        text-align: right;\n",
       "    }\n",
       "</style>\n",
       "<table border=\"1\" class=\"dataframe\">\n",
       "  <thead>\n",
       "    <tr style=\"text-align: right;\">\n",
       "      <th></th>\n",
       "      <th>Id</th>\n",
       "      <th>Nombre</th>\n",
       "      <th>Apellido</th>\n",
       "      <th>Teléfono</th>\n",
       "      <th>email</th>\n",
       "    </tr>\n",
       "  </thead>\n",
       "  <tbody>\n",
       "    <tr>\n",
       "      <th>0</th>\n",
       "      <td>1</td>\n",
       "      <td>Violeta</td>\n",
       "      <td>García Pérez</td>\n",
       "      <td>555 123 7890</td>\n",
       "      <td>violeta</td>\n",
       "    </tr>\n",
       "    <tr>\n",
       "      <th>1</th>\n",
       "      <td>2</td>\n",
       "      <td>Karla</td>\n",
       "      <td>Hernández</td>\n",
       "      <td>555 123 8901</td>\n",
       "      <td>karla</td>\n",
       "    </tr>\n",
       "  </tbody>\n",
       "</table>\n",
       "</div>"
      ],
      "text/plain": [
       "  Id   Nombre      Apellido      Teléfono    email\n",
       "0  1  Violeta  García Pérez  555 123 7890  violeta\n",
       "1  2    Karla    Hernández   555 123 8901    karla"
      ]
     },
     "execution_count": 13,
     "metadata": {},
     "output_type": "execute_result"
    }
   ],
   "source": [
    "agenda_prueba"
   ]
  },
  {
   "cell_type": "code",
   "execution_count": 14,
   "metadata": {},
   "outputs": [
    {
     "data": {
      "text/plain": [
       "{'Id': [None],\n",
       " 'Nombre': ['Vera'],\n",
       " 'Apellido': [None],\n",
       " 'Teléfono': ['555 123 4567'],\n",
       " 'email': [None]}"
      ]
     },
     "execution_count": 14,
     "metadata": {},
     "output_type": "execute_result"
    }
   ],
   "source": [
    "contacto"
   ]
  },
  {
   "cell_type": "code",
   "execution_count": 32,
   "metadata": {},
   "outputs": [
    {
     "ename": "TypeError",
     "evalue": "only list-like or dict-like objects are allowed to be passed to DataFrame.isin(), you passed a 'str'",
     "output_type": "error",
     "traceback": [
      "\u001b[1;31m---------------------------------------------------------------------------\u001b[0m",
      "\u001b[1;31mTypeError\u001b[0m                                 Traceback (most recent call last)",
      "\u001b[1;32m~\\AppData\\Local\\Temp\\ipykernel_15092\\638520886.py\u001b[0m in \u001b[0;36m?\u001b[1;34m()\u001b[0m\n\u001b[0;32m     11\u001b[0m \u001b[1;31m# Supongamos que tienes un diccionario con los valores a buscar\u001b[0m\u001b[1;33m\u001b[0m\u001b[1;33m\u001b[0m\u001b[0m\n\u001b[0;32m     12\u001b[0m \u001b[0mvalores_a_buscar\u001b[0m \u001b[1;33m=\u001b[0m \u001b[1;33m{\u001b[0m\u001b[1;34m'Nombre'\u001b[0m\u001b[1;33m:\u001b[0m \u001b[1;34m'Juan'\u001b[0m\u001b[1;33m,\u001b[0m \u001b[1;34m'Apellido'\u001b[0m\u001b[1;33m:\u001b[0m \u001b[1;34m'Pérez'\u001b[0m\u001b[1;33m}\u001b[0m\u001b[1;33m\u001b[0m\u001b[1;33m\u001b[0m\u001b[0m\n\u001b[0;32m     13\u001b[0m \u001b[1;33m\u001b[0m\u001b[0m\n\u001b[0;32m     14\u001b[0m \u001b[1;31m# Realiza la búsqueda en el DataFrame\u001b[0m\u001b[1;33m\u001b[0m\u001b[1;33m\u001b[0m\u001b[0m\n\u001b[1;32m---> 15\u001b[1;33m \u001b[0mresultado\u001b[0m \u001b[1;33m=\u001b[0m \u001b[0mdf\u001b[0m\u001b[1;33m.\u001b[0m\u001b[0misin\u001b[0m\u001b[1;33m(\u001b[0m\u001b[0mvalores_a_buscar\u001b[0m\u001b[1;33m)\u001b[0m\u001b[1;33m\u001b[0m\u001b[1;33m\u001b[0m\u001b[0m\n\u001b[0m\u001b[0;32m     16\u001b[0m \u001b[1;33m\u001b[0m\u001b[0m\n\u001b[0;32m     17\u001b[0m \u001b[1;31m# Imprime el resultado\u001b[0m\u001b[1;33m\u001b[0m\u001b[1;33m\u001b[0m\u001b[0m\n\u001b[0;32m     18\u001b[0m \u001b[0mprint\u001b[0m\u001b[1;33m(\u001b[0m\u001b[0mresultado\u001b[0m\u001b[1;33m)\u001b[0m\u001b[1;33m\u001b[0m\u001b[1;33m\u001b[0m\u001b[0m\n",
      "\u001b[1;32mc:\\Users\\Lupi\\AppData\\Local\\Programs\\Python\\Python312\\Lib\\site-packages\\pandas\\core\\frame.py\u001b[0m in \u001b[0;36m?\u001b[1;34m(self, values)\u001b[0m\n\u001b[0;32m  12059\u001b[0m         \u001b[1;32mif\u001b[0m \u001b[0misinstance\u001b[0m\u001b[1;33m(\u001b[0m\u001b[0mvalues\u001b[0m\u001b[1;33m,\u001b[0m \u001b[0mdict\u001b[0m\u001b[1;33m)\u001b[0m\u001b[1;33m:\u001b[0m\u001b[1;33m\u001b[0m\u001b[1;33m\u001b[0m\u001b[0m\n\u001b[0;32m  12060\u001b[0m             \u001b[1;32mfrom\u001b[0m \u001b[0mpandas\u001b[0m\u001b[1;33m.\u001b[0m\u001b[0mcore\u001b[0m\u001b[1;33m.\u001b[0m\u001b[0mreshape\u001b[0m\u001b[1;33m.\u001b[0m\u001b[0mconcat\u001b[0m \u001b[1;32mimport\u001b[0m \u001b[0mconcat\u001b[0m\u001b[1;33m\u001b[0m\u001b[1;33m\u001b[0m\u001b[0m\n\u001b[0;32m  12061\u001b[0m \u001b[1;33m\u001b[0m\u001b[0m\n\u001b[0;32m  12062\u001b[0m             \u001b[0mvalues\u001b[0m \u001b[1;33m=\u001b[0m \u001b[0mcollections\u001b[0m\u001b[1;33m.\u001b[0m\u001b[0mdefaultdict\u001b[0m\u001b[1;33m(\u001b[0m\u001b[0mlist\u001b[0m\u001b[1;33m,\u001b[0m \u001b[0mvalues\u001b[0m\u001b[1;33m)\u001b[0m\u001b[1;33m\u001b[0m\u001b[1;33m\u001b[0m\u001b[0m\n\u001b[1;32m> 12063\u001b[1;33m             result = concat(\n\u001b[0m\u001b[0;32m  12064\u001b[0m                 (\n\u001b[0;32m  12065\u001b[0m                     \u001b[0mself\u001b[0m\u001b[1;33m.\u001b[0m\u001b[0miloc\u001b[0m\u001b[1;33m[\u001b[0m\u001b[1;33m:\u001b[0m\u001b[1;33m,\u001b[0m \u001b[1;33m[\u001b[0m\u001b[0mi\u001b[0m\u001b[1;33m]\u001b[0m\u001b[1;33m]\u001b[0m\u001b[1;33m.\u001b[0m\u001b[0misin\u001b[0m\u001b[1;33m(\u001b[0m\u001b[0mvalues\u001b[0m\u001b[1;33m[\u001b[0m\u001b[0mcol\u001b[0m\u001b[1;33m]\u001b[0m\u001b[1;33m)\u001b[0m\u001b[1;33m\u001b[0m\u001b[1;33m\u001b[0m\u001b[0m\n\u001b[0;32m  12066\u001b[0m                     \u001b[1;32mfor\u001b[0m \u001b[0mi\u001b[0m\u001b[1;33m,\u001b[0m \u001b[0mcol\u001b[0m \u001b[1;32min\u001b[0m \u001b[0menumerate\u001b[0m\u001b[1;33m(\u001b[0m\u001b[0mself\u001b[0m\u001b[1;33m.\u001b[0m\u001b[0mcolumns\u001b[0m\u001b[1;33m)\u001b[0m\u001b[1;33m\u001b[0m\u001b[1;33m\u001b[0m\u001b[0m\n",
      "\u001b[1;32mc:\\Users\\Lupi\\AppData\\Local\\Programs\\Python\\Python312\\Lib\\site-packages\\pandas\\core\\reshape\\concat.py\u001b[0m in \u001b[0;36m?\u001b[1;34m(objs, axis, join, ignore_index, keys, levels, names, verify_integrity, sort, copy)\u001b[0m\n\u001b[0;32m    376\u001b[0m             \u001b[0mcopy\u001b[0m \u001b[1;33m=\u001b[0m \u001b[1;32mTrue\u001b[0m\u001b[1;33m\u001b[0m\u001b[1;33m\u001b[0m\u001b[0m\n\u001b[0;32m    377\u001b[0m     \u001b[1;32melif\u001b[0m \u001b[0mcopy\u001b[0m \u001b[1;32mand\u001b[0m \u001b[0musing_copy_on_write\u001b[0m\u001b[1;33m(\u001b[0m\u001b[1;33m)\u001b[0m\u001b[1;33m:\u001b[0m\u001b[1;33m\u001b[0m\u001b[1;33m\u001b[0m\u001b[0m\n\u001b[0;32m    378\u001b[0m         \u001b[0mcopy\u001b[0m \u001b[1;33m=\u001b[0m \u001b[1;32mFalse\u001b[0m\u001b[1;33m\u001b[0m\u001b[1;33m\u001b[0m\u001b[0m\n\u001b[0;32m    379\u001b[0m \u001b[1;33m\u001b[0m\u001b[0m\n\u001b[1;32m--> 380\u001b[1;33m     op = _Concatenator(\n\u001b[0m\u001b[0;32m    381\u001b[0m         \u001b[0mobjs\u001b[0m\u001b[1;33m,\u001b[0m\u001b[1;33m\u001b[0m\u001b[1;33m\u001b[0m\u001b[0m\n\u001b[0;32m    382\u001b[0m         \u001b[0maxis\u001b[0m\u001b[1;33m=\u001b[0m\u001b[0maxis\u001b[0m\u001b[1;33m,\u001b[0m\u001b[1;33m\u001b[0m\u001b[1;33m\u001b[0m\u001b[0m\n\u001b[0;32m    383\u001b[0m         \u001b[0mignore_index\u001b[0m\u001b[1;33m=\u001b[0m\u001b[0mignore_index\u001b[0m\u001b[1;33m,\u001b[0m\u001b[1;33m\u001b[0m\u001b[1;33m\u001b[0m\u001b[0m\n",
      "\u001b[1;32mc:\\Users\\Lupi\\AppData\\Local\\Programs\\Python\\Python312\\Lib\\site-packages\\pandas\\core\\reshape\\concat.py\u001b[0m in \u001b[0;36m?\u001b[1;34m(self, objs, axis, join, keys, levels, names, ignore_index, verify_integrity, copy, sort)\u001b[0m\n\u001b[0;32m    439\u001b[0m         \u001b[0mself\u001b[0m\u001b[1;33m.\u001b[0m\u001b[0mignore_index\u001b[0m \u001b[1;33m=\u001b[0m \u001b[0mignore_index\u001b[0m\u001b[1;33m\u001b[0m\u001b[1;33m\u001b[0m\u001b[0m\n\u001b[0;32m    440\u001b[0m         \u001b[0mself\u001b[0m\u001b[1;33m.\u001b[0m\u001b[0mverify_integrity\u001b[0m \u001b[1;33m=\u001b[0m \u001b[0mverify_integrity\u001b[0m\u001b[1;33m\u001b[0m\u001b[1;33m\u001b[0m\u001b[0m\n\u001b[0;32m    441\u001b[0m         \u001b[0mself\u001b[0m\u001b[1;33m.\u001b[0m\u001b[0mcopy\u001b[0m \u001b[1;33m=\u001b[0m \u001b[0mcopy\u001b[0m\u001b[1;33m\u001b[0m\u001b[1;33m\u001b[0m\u001b[0m\n\u001b[0;32m    442\u001b[0m \u001b[1;33m\u001b[0m\u001b[0m\n\u001b[1;32m--> 443\u001b[1;33m         \u001b[0mobjs\u001b[0m\u001b[1;33m,\u001b[0m \u001b[0mkeys\u001b[0m \u001b[1;33m=\u001b[0m \u001b[0mself\u001b[0m\u001b[1;33m.\u001b[0m\u001b[0m_clean_keys_and_objs\u001b[0m\u001b[1;33m(\u001b[0m\u001b[0mobjs\u001b[0m\u001b[1;33m,\u001b[0m \u001b[0mkeys\u001b[0m\u001b[1;33m)\u001b[0m\u001b[1;33m\u001b[0m\u001b[1;33m\u001b[0m\u001b[0m\n\u001b[0m\u001b[0;32m    444\u001b[0m \u001b[1;33m\u001b[0m\u001b[0m\n\u001b[0;32m    445\u001b[0m         \u001b[1;31m# figure out what our result ndim is going to be\u001b[0m\u001b[1;33m\u001b[0m\u001b[1;33m\u001b[0m\u001b[0m\n\u001b[0;32m    446\u001b[0m         \u001b[0mndims\u001b[0m \u001b[1;33m=\u001b[0m \u001b[0mself\u001b[0m\u001b[1;33m.\u001b[0m\u001b[0m_get_ndims\u001b[0m\u001b[1;33m(\u001b[0m\u001b[0mobjs\u001b[0m\u001b[1;33m)\u001b[0m\u001b[1;33m\u001b[0m\u001b[1;33m\u001b[0m\u001b[0m\n",
      "\u001b[1;32mc:\\Users\\Lupi\\AppData\\Local\\Programs\\Python\\Python312\\Lib\\site-packages\\pandas\\core\\reshape\\concat.py\u001b[0m in \u001b[0;36m?\u001b[1;34m(self, objs, keys)\u001b[0m\n\u001b[0;32m    498\u001b[0m             \u001b[1;32mif\u001b[0m \u001b[0mkeys\u001b[0m \u001b[1;32mis\u001b[0m \u001b[1;32mNone\u001b[0m\u001b[1;33m:\u001b[0m\u001b[1;33m\u001b[0m\u001b[1;33m\u001b[0m\u001b[0m\n\u001b[0;32m    499\u001b[0m                 \u001b[0mkeys\u001b[0m \u001b[1;33m=\u001b[0m \u001b[0mlist\u001b[0m\u001b[1;33m(\u001b[0m\u001b[0mobjs\u001b[0m\u001b[1;33m.\u001b[0m\u001b[0mkeys\u001b[0m\u001b[1;33m(\u001b[0m\u001b[1;33m)\u001b[0m\u001b[1;33m)\u001b[0m\u001b[1;33m\u001b[0m\u001b[1;33m\u001b[0m\u001b[0m\n\u001b[0;32m    500\u001b[0m             \u001b[0mobjs_list\u001b[0m \u001b[1;33m=\u001b[0m \u001b[1;33m[\u001b[0m\u001b[0mobjs\u001b[0m\u001b[1;33m[\u001b[0m\u001b[0mk\u001b[0m\u001b[1;33m]\u001b[0m \u001b[1;32mfor\u001b[0m \u001b[0mk\u001b[0m \u001b[1;32min\u001b[0m \u001b[0mkeys\u001b[0m\u001b[1;33m]\u001b[0m\u001b[1;33m\u001b[0m\u001b[1;33m\u001b[0m\u001b[0m\n\u001b[0;32m    501\u001b[0m         \u001b[1;32melse\u001b[0m\u001b[1;33m:\u001b[0m\u001b[1;33m\u001b[0m\u001b[1;33m\u001b[0m\u001b[0m\n\u001b[1;32m--> 502\u001b[1;33m             \u001b[0mobjs_list\u001b[0m \u001b[1;33m=\u001b[0m \u001b[0mlist\u001b[0m\u001b[1;33m(\u001b[0m\u001b[0mobjs\u001b[0m\u001b[1;33m)\u001b[0m\u001b[1;33m\u001b[0m\u001b[1;33m\u001b[0m\u001b[0m\n\u001b[0m\u001b[0;32m    503\u001b[0m \u001b[1;33m\u001b[0m\u001b[0m\n\u001b[0;32m    504\u001b[0m         \u001b[1;32mif\u001b[0m \u001b[0mlen\u001b[0m\u001b[1;33m(\u001b[0m\u001b[0mobjs_list\u001b[0m\u001b[1;33m)\u001b[0m \u001b[1;33m==\u001b[0m \u001b[1;36m0\u001b[0m\u001b[1;33m:\u001b[0m\u001b[1;33m\u001b[0m\u001b[1;33m\u001b[0m\u001b[0m\n\u001b[0;32m    505\u001b[0m             \u001b[1;32mraise\u001b[0m \u001b[0mValueError\u001b[0m\u001b[1;33m(\u001b[0m\u001b[1;34m\"No objects to concatenate\"\u001b[0m\u001b[1;33m)\u001b[0m\u001b[1;33m\u001b[0m\u001b[1;33m\u001b[0m\u001b[0m\n",
      "\u001b[1;32mc:\\Users\\Lupi\\AppData\\Local\\Programs\\Python\\Python312\\Lib\\site-packages\\pandas\\core\\frame.py\u001b[0m in \u001b[0;36m?\u001b[1;34m(.0)\u001b[0m\n\u001b[0;32m  12064\u001b[0m     \u001b[1;32mdef\u001b[0m \u001b[0misin\u001b[0m\u001b[1;33m(\u001b[0m\u001b[0mself\u001b[0m\u001b[1;33m,\u001b[0m \u001b[0mvalues\u001b[0m\u001b[1;33m:\u001b[0m \u001b[0mSeries\u001b[0m \u001b[1;33m|\u001b[0m \u001b[0mDataFrame\u001b[0m \u001b[1;33m|\u001b[0m \u001b[0mSequence\u001b[0m \u001b[1;33m|\u001b[0m \u001b[0mMapping\u001b[0m\u001b[1;33m)\u001b[0m \u001b[1;33m->\u001b[0m \u001b[0mDataFrame\u001b[0m\u001b[1;33m:\u001b[0m\u001b[1;33m\u001b[0m\u001b[1;33m\u001b[0m\u001b[0m\n\u001b[1;32m> 12065\u001b[1;33m         \"\"\"\n\u001b[0m\u001b[0;32m  12066\u001b[0m         \u001b[0mWhether\u001b[0m \u001b[0meach\u001b[0m \u001b[0melement\u001b[0m \u001b[1;32min\u001b[0m \u001b[0mthe\u001b[0m \u001b[0mDataFrame\u001b[0m \u001b[1;32mis\u001b[0m \u001b[0mcontained\u001b[0m \u001b[1;32min\u001b[0m \u001b[0mvalues\u001b[0m\u001b[1;33m.\u001b[0m\u001b[1;33m\u001b[0m\u001b[1;33m\u001b[0m\u001b[0m\n\u001b[0;32m  12067\u001b[0m \u001b[1;33m\u001b[0m\u001b[0m\n\u001b[0;32m  12068\u001b[0m         \u001b[0mParameters\u001b[0m\u001b[1;33m\u001b[0m\u001b[1;33m\u001b[0m\u001b[0m\n",
      "\u001b[1;32mc:\\Users\\Lupi\\AppData\\Local\\Programs\\Python\\Python312\\Lib\\site-packages\\pandas\\core\\frame.py\u001b[0m in \u001b[0;36m?\u001b[1;34m(self, values)\u001b[0m\n\u001b[0;32m  12076\u001b[0m                 \u001b[1;32mraise\u001b[0m \u001b[0mValueError\u001b[0m\u001b[1;33m(\u001b[0m\u001b[1;34m\"cannot compute isin with a duplicate axis.\"\u001b[0m\u001b[1;33m)\u001b[0m\u001b[1;33m\u001b[0m\u001b[1;33m\u001b[0m\u001b[0m\n\u001b[0;32m  12077\u001b[0m             \u001b[0mresult\u001b[0m \u001b[1;33m=\u001b[0m \u001b[0mself\u001b[0m\u001b[1;33m.\u001b[0m\u001b[0meq\u001b[0m\u001b[1;33m(\u001b[0m\u001b[0mvalues\u001b[0m\u001b[1;33m.\u001b[0m\u001b[0mreindex_like\u001b[0m\u001b[1;33m(\u001b[0m\u001b[0mself\u001b[0m\u001b[1;33m)\u001b[0m\u001b[1;33m)\u001b[0m\u001b[1;33m\u001b[0m\u001b[1;33m\u001b[0m\u001b[0m\n\u001b[0;32m  12078\u001b[0m         \u001b[1;32melse\u001b[0m\u001b[1;33m:\u001b[0m\u001b[1;33m\u001b[0m\u001b[1;33m\u001b[0m\u001b[0m\n\u001b[0;32m  12079\u001b[0m             \u001b[1;32mif\u001b[0m \u001b[1;32mnot\u001b[0m \u001b[0mis_list_like\u001b[0m\u001b[1;33m(\u001b[0m\u001b[0mvalues\u001b[0m\u001b[1;33m)\u001b[0m\u001b[1;33m:\u001b[0m\u001b[1;33m\u001b[0m\u001b[1;33m\u001b[0m\u001b[0m\n\u001b[1;32m> 12080\u001b[1;33m                 raise TypeError(\n\u001b[0m\u001b[0;32m  12081\u001b[0m                     \u001b[1;34m\"only list-like or dict-like objects are allowed \"\u001b[0m\u001b[1;33m\u001b[0m\u001b[1;33m\u001b[0m\u001b[0m\n\u001b[0;32m  12082\u001b[0m                     \u001b[1;34m\"to be passed to DataFrame.isin(), \"\u001b[0m\u001b[1;33m\u001b[0m\u001b[1;33m\u001b[0m\u001b[0m\n\u001b[0;32m  12083\u001b[0m                     \u001b[1;33mf\"\u001b[0m\u001b[1;33myou passed a '\u001b[0m\u001b[1;33m{\u001b[0m\u001b[0mtype\u001b[0m\u001b[1;33m(\u001b[0m\u001b[0mvalues\u001b[0m\u001b[1;33m)\u001b[0m\u001b[1;33m.\u001b[0m\u001b[0m__name__\u001b[0m\u001b[1;33m}\u001b[0m\u001b[1;33m'\u001b[0m\u001b[1;33m\"\u001b[0m\u001b[1;33m\u001b[0m\u001b[1;33m\u001b[0m\u001b[0m\n",
      "\u001b[1;31mTypeError\u001b[0m: only list-like or dict-like objects are allowed to be passed to DataFrame.isin(), you passed a 'str'"
     ]
    }
   ],
   "source": [
    "import pandas as pd\n",
    "\n",
    "# Supongamos que tienes un DataFrame llamado df\n",
    "df = pd.DataFrame({\n",
    "    'Nombre': ['Juan', 'María', 'Pedro'],\n",
    "    'Apellido': ['Pérez', 'Gómez', 'López'],\n",
    "    'Edad': [25, 30, 35],\n",
    "    'Ciudad': ['Madrid', 'Barcelona', 'Valencia']\n",
    "})\n",
    "\n",
    "# Supongamos que tienes un diccionario con los valores a buscar\n",
    "valores_a_buscar = {'Nombre': 'Juan', 'Apellido': 'Pérez'}\n",
    "\n",
    "# Realiza la búsqueda en el DataFrame\n",
    "resultado = df.isin(valores_a_buscar)\n",
    "\n",
    "# Imprime el resultado\n",
    "print(resultado)"
   ]
  },
  {
   "cell_type": "code",
   "execution_count": 34,
   "metadata": {},
   "outputs": [],
   "source": [
    "df = pd.DataFrame({\n",
    "    'Nombre': ['Juan', 'María', 'Pedro'],\n",
    "    'Apellido': ['Pérez', 'Gómez', 'López'],\n",
    "    'Edad': [25, 30, 35],\n",
    "    'Ciudad': ['Madrid', 'Barcelona', 'Valencia']\n",
    "})\n",
    "valores_a_buscar = {'Nombre': 'Juan', 'Apellido': 'Pérez'}"
   ]
  },
  {
   "cell_type": "code",
   "execution_count": 40,
   "metadata": {},
   "outputs": [
    {
     "data": {
      "text/html": [
       "<div>\n",
       "<style scoped>\n",
       "    .dataframe tbody tr th:only-of-type {\n",
       "        vertical-align: middle;\n",
       "    }\n",
       "\n",
       "    .dataframe tbody tr th {\n",
       "        vertical-align: top;\n",
       "    }\n",
       "\n",
       "    .dataframe thead th {\n",
       "        text-align: right;\n",
       "    }\n",
       "</style>\n",
       "<table border=\"1\" class=\"dataframe\">\n",
       "  <thead>\n",
       "    <tr style=\"text-align: right;\">\n",
       "      <th></th>\n",
       "      <th>Nombre</th>\n",
       "      <th>Apellido</th>\n",
       "      <th>Edad</th>\n",
       "      <th>Ciudad</th>\n",
       "    </tr>\n",
       "  </thead>\n",
       "  <tbody>\n",
       "    <tr>\n",
       "      <th>0</th>\n",
       "      <td>Juan</td>\n",
       "      <td>Pérez</td>\n",
       "      <td>25</td>\n",
       "      <td>Madrid</td>\n",
       "    </tr>\n",
       "    <tr>\n",
       "      <th>1</th>\n",
       "      <td>María</td>\n",
       "      <td>Gómez</td>\n",
       "      <td>30</td>\n",
       "      <td>Barcelona</td>\n",
       "    </tr>\n",
       "    <tr>\n",
       "      <th>2</th>\n",
       "      <td>Pedro</td>\n",
       "      <td>López</td>\n",
       "      <td>35</td>\n",
       "      <td>Valencia</td>\n",
       "    </tr>\n",
       "  </tbody>\n",
       "</table>\n",
       "</div>"
      ],
      "text/plain": [
       "  Nombre Apellido  Edad     Ciudad\n",
       "0   Juan    Pérez    25     Madrid\n",
       "1  María    Gómez    30  Barcelona\n",
       "2  Pedro    López    35   Valencia"
      ]
     },
     "execution_count": 40,
     "metadata": {},
     "output_type": "execute_result"
    }
   ],
   "source": [
    "df"
   ]
  },
  {
   "cell_type": "code",
   "execution_count": 61,
   "metadata": {},
   "outputs": [
    {
     "data": {
      "text/html": [
       "<div>\n",
       "<style scoped>\n",
       "    .dataframe tbody tr th:only-of-type {\n",
       "        vertical-align: middle;\n",
       "    }\n",
       "\n",
       "    .dataframe tbody tr th {\n",
       "        vertical-align: top;\n",
       "    }\n",
       "\n",
       "    .dataframe thead th {\n",
       "        text-align: right;\n",
       "    }\n",
       "</style>\n",
       "<table border=\"1\" class=\"dataframe\">\n",
       "  <thead>\n",
       "    <tr style=\"text-align: right;\">\n",
       "      <th></th>\n",
       "      <th>Nombre</th>\n",
       "      <th>Apellido</th>\n",
       "      <th>Edad</th>\n",
       "      <th>Ciudad</th>\n",
       "    </tr>\n",
       "  </thead>\n",
       "  <tbody>\n",
       "    <tr>\n",
       "      <th>0</th>\n",
       "      <td>Juan</td>\n",
       "      <td>Pérez</td>\n",
       "      <td>NaN</td>\n",
       "      <td>NaN</td>\n",
       "    </tr>\n",
       "  </tbody>\n",
       "</table>\n",
       "</div>"
      ],
      "text/plain": [
       "  Nombre Apellido  Edad Ciudad\n",
       "0   Juan    Pérez   NaN    NaN"
      ]
     },
     "execution_count": 61,
     "metadata": {},
     "output_type": "execute_result"
    }
   ],
   "source": [
    "result = df[df.isin(['Juan','Pérez'])]\n",
    "result.dropna(how = 'all', inplace= True)\n",
    "result"
   ]
  },
  {
   "cell_type": "code",
   "execution_count": 42,
   "metadata": {},
   "outputs": [
    {
     "data": {
      "text/html": [
       "<div>\n",
       "<style scoped>\n",
       "    .dataframe tbody tr th:only-of-type {\n",
       "        vertical-align: middle;\n",
       "    }\n",
       "\n",
       "    .dataframe tbody tr th {\n",
       "        vertical-align: top;\n",
       "    }\n",
       "\n",
       "    .dataframe thead th {\n",
       "        text-align: right;\n",
       "    }\n",
       "</style>\n",
       "<table border=\"1\" class=\"dataframe\">\n",
       "  <thead>\n",
       "    <tr style=\"text-align: right;\">\n",
       "      <th></th>\n",
       "      <th>Nombre</th>\n",
       "      <th>Apellido</th>\n",
       "      <th>Edad</th>\n",
       "      <th>Ciudad</th>\n",
       "    </tr>\n",
       "  </thead>\n",
       "  <tbody>\n",
       "    <tr>\n",
       "      <th>0</th>\n",
       "      <td>Juan</td>\n",
       "      <td>Pérez</td>\n",
       "      <td>25</td>\n",
       "      <td>Madrid</td>\n",
       "    </tr>\n",
       "  </tbody>\n",
       "</table>\n",
       "</div>"
      ],
      "text/plain": [
       "  Nombre Apellido  Edad  Ciudad\n",
       "0   Juan    Pérez    25  Madrid"
      ]
     },
     "execution_count": 42,
     "metadata": {},
     "output_type": "execute_result"
    }
   ],
   "source": [
    "df.query(\"Nombre == 'Juan' or Apellido == 'Perez'\")"
   ]
  },
  {
   "cell_type": "code",
   "execution_count": 56,
   "metadata": {},
   "outputs": [
    {
     "data": {
      "text/plain": [
       "{'Id': [None],\n",
       " 'Nombre': ['Vera'],\n",
       " 'Apellido': [None],\n",
       " 'Teléfono': ['555 123 4567'],\n",
       " 'email': [None]}"
      ]
     },
     "execution_count": 56,
     "metadata": {},
     "output_type": "execute_result"
    }
   ],
   "source": [
    "contacto"
   ]
  },
  {
   "cell_type": "code",
   "execution_count": 65,
   "metadata": {},
   "outputs": [
    {
     "name": "stdout",
     "output_type": "stream",
     "text": [
      "Nombre : Vera\n",
      "Teléfono : 555 123 4567\n"
     ]
    },
    {
     "data": {
      "text/plain": [
       "['Vera', '555 123 4567']"
      ]
     },
     "execution_count": 65,
     "metadata": {},
     "output_type": "execute_result"
    }
   ],
   "source": [
    "contacto_a_buscar =[]\n",
    "for key, value in contacto.items() :\n",
    "                if key != 'Id' :\n",
    "                    if value[0] != None :\n",
    "                        contacto_a_buscar.append(value[0])                       \n",
    "                        print(key, ':', value[0])\n",
    "contacto_a_buscar "
   ]
  },
  {
   "cell_type": "code",
   "execution_count": 94,
   "metadata": {},
   "outputs": [],
   "source": [
    "contacto_a_buscar =['Violet0','555 123 8902']"
   ]
  },
  {
   "cell_type": "code",
   "execution_count": 95,
   "metadata": {},
   "outputs": [],
   "source": []
  },
  {
   "cell_type": "code",
   "execution_count": null,
   "metadata": {},
   "outputs": [],
   "source": []
  },
  {
   "cell_type": "code",
   "execution_count": 64,
   "metadata": {},
   "outputs": [
    {
     "data": {
      "text/html": [
       "<div>\n",
       "<style scoped>\n",
       "    .dataframe tbody tr th:only-of-type {\n",
       "        vertical-align: middle;\n",
       "    }\n",
       "\n",
       "    .dataframe tbody tr th {\n",
       "        vertical-align: top;\n",
       "    }\n",
       "\n",
       "    .dataframe thead th {\n",
       "        text-align: right;\n",
       "    }\n",
       "</style>\n",
       "<table border=\"1\" class=\"dataframe\">\n",
       "  <thead>\n",
       "    <tr style=\"text-align: right;\">\n",
       "      <th></th>\n",
       "      <th>Id</th>\n",
       "      <th>Nombre</th>\n",
       "      <th>Apellido</th>\n",
       "      <th>Teléfono</th>\n",
       "      <th>email</th>\n",
       "    </tr>\n",
       "  </thead>\n",
       "  <tbody>\n",
       "    <tr>\n",
       "      <th>0</th>\n",
       "      <td>1</td>\n",
       "      <td>Violeta</td>\n",
       "      <td>García Pérez</td>\n",
       "      <td>555 123 7890</td>\n",
       "      <td>violeta</td>\n",
       "    </tr>\n",
       "    <tr>\n",
       "      <th>1</th>\n",
       "      <td>2</td>\n",
       "      <td>Karla</td>\n",
       "      <td>Hernández</td>\n",
       "      <td>555 123 8901</td>\n",
       "      <td>karla</td>\n",
       "    </tr>\n",
       "  </tbody>\n",
       "</table>\n",
       "</div>"
      ],
      "text/plain": [
       "  Id   Nombre      Apellido      Teléfono    email\n",
       "0  1  Violeta  García Pérez  555 123 7890  violeta\n",
       "1  2    Karla    Hernández   555 123 8901    karla"
      ]
     },
     "execution_count": 64,
     "metadata": {},
     "output_type": "execute_result"
    }
   ],
   "source": [
    "agenda"
   ]
  },
  {
   "cell_type": "code",
   "execution_count": null,
   "metadata": {},
   "outputs": [],
   "source": []
  }
 ],
 "metadata": {
  "kernelspec": {
   "display_name": "Python 3",
   "language": "python",
   "name": "python3"
  },
  "language_info": {
   "codemirror_mode": {
    "name": "ipython",
    "version": 3
   },
   "file_extension": ".py",
   "mimetype": "text/x-python",
   "name": "python",
   "nbconvert_exporter": "python",
   "pygments_lexer": "ipython3",
   "version": "3.12.1"
  }
 },
 "nbformat": 4,
 "nbformat_minor": 2
}
