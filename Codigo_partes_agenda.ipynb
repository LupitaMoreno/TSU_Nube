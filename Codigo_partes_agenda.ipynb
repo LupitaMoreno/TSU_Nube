{
 "cells": [
  {
   "cell_type": "code",
   "execution_count": 1,
   "metadata": {},
   "outputs": [
    {
     "data": {
      "text/plain": [
       "'7771496771'"
      ]
     },
     "execution_count": 1,
     "metadata": {},
     "output_type": "execute_result"
    }
   ],
   "source": [
    "str('7771496771')"
   ]
  },
  {
   "cell_type": "code",
   "execution_count": 4,
   "metadata": {},
   "outputs": [],
   "source": [
    "import re\n",
    "import pandas as pd\n",
    "id = 0\n",
    "\n",
    "#Buscar un nuevo contacto\n",
    "#Eliminar contacto\n",
    "#Editar un contacto\n",
    "\n",
    "#Funcion para validar un numero teléfonico \n",
    "def validar_numero_telefonico(telefono):\n",
    "    regex = r'^\\d{3} \\d{3} \\d{4}$'\n",
    "    if re.match(regex, telefono):\n",
    "        return True \n",
    "    else :\n",
    "        return False\n",
    "#Ingresar multiples contactos hasta que se escriba la cadena 'parar'\n",
    "#Validacion: 1) contacto repetido, 2) contacto o numero repetido ,\n",
    "#4) Se debe poder ingresar un contaco completo o una parte\n",
    "# Funciones que pueden ayudar al debud. mostrar todos los contactos, mostrar un subconjunto de contactos, ordenar contactos, buscar por diferentes parametros\n",
    "# Seria buena idea un ID interno ?\n",
    "\n",
    "agenda = pd.DataFrame(columns = ['Id','Nombre', 'Apellido', 'Teléfono', 'email'])\n",
    "\n",
    "#Agregar un nuevo contacto\n",
    "#def agregar_nuevo_contacto() :\n",
    "nombre = input('Nombre: ')\n",
    "name = nombre\n",
    "apellido = input('Apellido: ')\n",
    "last_name = apellido\n",
    "#Validando que el número telefónico cumpla el formato \n",
    "telefono_valido = False\n",
    "while telefono_valido == False :\n",
    "    telefono = input('Teléfono a diez digitos escritos de la siguiente forma: 3 digitos espacio tres dígitos espacio 4 digitos Ej. 556 293 28974: ')\n",
    "    tel = str(telefono)\n",
    "    if validar_numero_telefonico(tel) :\n",
    "        telefono_valido = True\n",
    "    else :\n",
    "        print('Vuelve a ingresar el teléfono con el formato solicitado')\n",
    "\n",
    "\n",
    "correo = input('Correo electrónico: ')\n",
    "e_mail = correo\n",
    "id += 1 \n",
    "\n",
    "\n"
   ]
  },
  {
   "cell_type": "code",
   "execution_count": 14,
   "metadata": {},
   "outputs": [
    {
     "name": "stdout",
     "output_type": "stream",
     "text": [
      "{'Id': [1], 'Nombre': ['a'], 'Apellido': ['g'], 'Teléfono': ['555 123 1234'], 'email': ['dsf']}\n"
     ]
    }
   ],
   "source": [
    "\n",
    "\n",
    "print(agenda)"
   ]
  },
  {
   "cell_type": "code",
   "execution_count": 27,
   "metadata": {},
   "outputs": [
    {
     "name": "stdout",
     "output_type": "stream",
     "text": [
      "Agenda telefónica \n",
      " Menú de opciones \n",
      " 1) Agregar un contacto nuevo \n",
      " 2) Buscar un contacto\n",
      " 3) Eliminar un contacto \n",
      " 4) Editar un contacto\n",
      "1\n",
      "Elegiste la siguiente acción\n",
      "Agregar un contacto nuevo\n"
     ]
    }
   ],
   "source": []
  },
  {
   "cell_type": "code",
   "execution_count": 33,
   "metadata": {},
   "outputs": [],
   "source": [
    "import numpy as np"
   ]
  },
  {
   "cell_type": "code",
   "execution_count": 43,
   "metadata": {},
   "outputs": [],
   "source": [
    "contacto_list = [id, name, last_name,tel,e_mail] \n",
    "contacto_list"
   ]
  },
  {
   "cell_type": "code",
   "execution_count": 108,
   "metadata": {},
   "outputs": [],
   "source": [
    "def agregar_info_busqueda() :\n",
    "#Intento fallido de asignar valores nan a las variables a traves de su nombre iterando en una lista\n",
    "#\n",
    "#for a in contacto_list :\n",
    "#    print(a)\n",
    "#    a = np.nan\n",
    "\n",
    "    id = None\n",
    "    name = None\n",
    "    last_name  = None\n",
    "    tel = None\n",
    "    e_mail = None\n",
    "    print('Entre mas elementos ingreses, tu busqueda será más precisa')\n",
    "    opcion = 0\n",
    "    while   opcion != 5 :\n",
    "        opcion = int(input('Ingresa el número que indique el elemento por el cual quieres buscar \\n 1) Nombre \\n 2) Apellido\\n 3)Teléfono\\n 4)Correo electrónico\\n 5)No tengo más elementos '))\n",
    "        #print(opcion)\n",
    "        if opcion == 1:\n",
    "            name = input(\"Nombre:\")\n",
    "        elif opcion == 2:\n",
    "            last_name = input(\"Apellido:\")\n",
    "        elif opcion == 3:\n",
    "            tel = input(\"Teléfono:\")\n",
    "        elif opcion == 4:\n",
    "            e_mail = input(\"Correo electrónico:\")\n",
    "        elif opcion == 5:\n",
    "            print('El elemento que buscas es el siguiente:')\n",
    "            contacto ={'Id': [id],'Nombre': [name], 'Apellido': [last_name], 'Teléfono': [tel], 'email': [e_mail]} \n",
    "            for key, value in contacto.items() :\n",
    "                if key != 'Id' :\n",
    "                    if value[0] != None :\n",
    "                        print(key, ':', value[0])\n",
    "            return(contacto)\n",
    "        else:\n",
    "            print('Escoge una opcion válida')\n",
    "    \n",
    "\n"
   ]
  },
  {
   "cell_type": "code",
   "execution_count": 109,
   "metadata": {},
   "outputs": [
    {
     "name": "stdout",
     "output_type": "stream",
     "text": [
      "Entre mas elementos ingreses, tu busqueda será más precisa\n",
      "Escoge una opcion válida\n",
      "El elemento que buscas es el siguiente:\n",
      "Nombre : Juan\n",
      "Apellido : perez\n",
      "Teléfono : 555 123 1234\n"
     ]
    },
    {
     "data": {
      "text/plain": [
       "{'Id': [None],\n",
       " 'Nombre': ['Juan'],\n",
       " 'Apellido': ['perez'],\n",
       " 'Teléfono': ['555 123 1234'],\n",
       " 'email': [None]}"
      ]
     },
     "execution_count": 109,
     "metadata": {},
     "output_type": "execute_result"
    }
   ],
   "source": [
    "agregar_info_busqueda()"
   ]
  },
  {
   "cell_type": "code",
   "execution_count": 104,
   "metadata": {},
   "outputs": [
    {
     "data": {
      "text/plain": [
       "{'Id': [None],\n",
       " 'Nombre': ['Juan'],\n",
       " 'Apellido': [None],\n",
       " 'Teléfono': [None],\n",
       " 'email': [None]}"
      ]
     },
     "execution_count": 104,
     "metadata": {},
     "output_type": "execute_result"
    }
   ],
   "source": [
    "\n",
    "\n",
    "contacto \n"
   ]
  },
  {
   "cell_type": "code",
   "execution_count": 105,
   "metadata": {},
   "outputs": [
    {
     "name": "stdout",
     "output_type": "stream",
     "text": [
      "Nombre : Juan\n"
     ]
    }
   ],
   "source": []
  },
  {
   "cell_type": "code",
   "execution_count": 93,
   "metadata": {},
   "outputs": [
    {
     "data": {
      "text/plain": [
       "str"
      ]
     },
     "execution_count": 93,
     "metadata": {},
     "output_type": "execute_result"
    }
   ],
   "source": [
    "type(contacto['Nombre'][0])"
   ]
  },
  {
   "cell_type": "code",
   "execution_count": null,
   "metadata": {},
   "outputs": [],
   "source": [
    "contacto ={'Id': [id],'Nombre': [name], 'Apellido': [last_name], 'Teléfono': [tel], 'email': [e_mail]}"
   ]
  }
 ],
 "metadata": {
  "kernelspec": {
   "display_name": "Python 3",
   "language": "python",
   "name": "python3"
  },
  "language_info": {
   "codemirror_mode": {
    "name": "ipython",
    "version": 3
   },
   "file_extension": ".py",
   "mimetype": "text/x-python",
   "name": "python",
   "nbconvert_exporter": "python",
   "pygments_lexer": "ipython3",
   "version": "3.12.1"
  }
 },
 "nbformat": 4,
 "nbformat_minor": 2
}
