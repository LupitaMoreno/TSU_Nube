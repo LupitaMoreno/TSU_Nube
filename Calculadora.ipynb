{
 "cells": [
  {
   "cell_type": "code",
   "execution_count": 3,
   "metadata": {},
   "outputs": [],
   "source": [
    "#Programacion de una calculadora\n",
    "\n",
    "# Operaciones incluidas\n",
    "lista = [ '+', '-', '*', '/','^']\n",
    "# Definiendo la funci'on que realiza las operaciones \n",
    "def calculadora(a, op ,b):\n",
    "    if op == '+':\n",
    "        resultado =(a+b)\n",
    "    elif op == '-':\n",
    "        resultado =(a-b)\n",
    "    elif op == '*':\n",
    "        resultado =(a*b)\n",
    "    elif op == '/':\n",
    "        resultado =(a/b)\n",
    "    elif op == '^' :\n",
    "        resultado =(a**b)\n",
    "    else :\n",
    "        resultado = ('algo esta mal')\n",
    "    \n",
    "    print(str(a)+ ' '+ op + ' '+str(b)+ ' '+'='+' '+ str(resultado))\n",
    "    return(resultado)\n",
    "\n"
   ]
  },
  {
   "cell_type": "markdown",
   "metadata": {},
   "source": [
    "## Primer calculadora. Mínimo producto viable"
   ]
  },
  {
   "cell_type": "code",
   "execution_count": null,
   "metadata": {},
   "outputs": [],
   "source": [
    "\n",
    "print('Calculadora ')\n",
    "# Solicitando primera cifra con control de errores\n",
    "while True:\n",
    "    try:\n",
    "        a = float(input('Ingresa la primer cantidad:'))\n",
    "    except ValueError :\n",
    "        print('No es un número válido')\n",
    "    else :\n",
    "        break\n",
    "\n",
    "\n",
    "op = '0'\n",
    "while op not in lista:\n",
    "    op = str(input('Ingresa el simbolo de la operacion, esta permitido +, -, *, /,^'))\n",
    "    if op not in lista :\n",
    "        input('Operacion no valida')\n",
    "\n",
    "\n",
    "#Solicitando segunda cifra con control de errores\n",
    "while True:\n",
    "    try:\n",
    "        b = float(input('Ingresa la segunda cantidad:'))\n",
    "    except ValueError :\n",
    "        print('No es un número válido')\n",
    "    else :\n",
    "        break\n",
    "calculadora(a,op,b)"
   ]
  },
  {
   "cell_type": "markdown",
   "metadata": {},
   "source": [
    "## Segunda opcion"
   ]
  },
  {
   "cell_type": "code",
   "execution_count": 10,
   "metadata": {},
   "outputs": [],
   "source": [
    "solicitud = str(input('Ingresa la operacion que deseas, ej. 3+2 /n'))\n",
    "\n"
   ]
  },
  {
   "cell_type": "code",
   "execution_count": 18,
   "metadata": {},
   "outputs": [],
   "source": [
    "solicitud = '3+2-3'"
   ]
  },
  {
   "cell_type": "code",
   "execution_count": 19,
   "metadata": {},
   "outputs": [
    {
     "data": {
      "text/plain": [
       "'3+2-3'"
      ]
     },
     "execution_count": 19,
     "metadata": {},
     "output_type": "execute_result"
    }
   ],
   "source": [
    "solicitud"
   ]
  },
  {
   "cell_type": "code",
   "execution_count": 20,
   "metadata": {},
   "outputs": [
    {
     "data": {
      "text/plain": [
       "['+', '-']"
      ]
     },
     "execution_count": 20,
     "metadata": {},
     "output_type": "execute_result"
    }
   ],
   "source": [
    "#Extrayendo las operaciones a realizar\n",
    "ops = []\n",
    "for op in solicitud:\n",
    "    if op in lista :\n",
    "        ops.append(op)\n",
    "ops"
   ]
  },
  {
   "cell_type": "code",
   "execution_count": 21,
   "metadata": {},
   "outputs": [
    {
     "data": {
      "text/plain": [
       "['3', '+', '2', '-', '3']"
      ]
     },
     "execution_count": 21,
     "metadata": {},
     "output_type": "execute_result"
    }
   ],
   "source": [
    "#Creando una lista con la secuencia de operaciones   \n",
    "sec = []\n",
    "pos = 0\n",
    "for ele in ops :\n",
    "    pos += 1\n",
    "    #print(ele)\n",
    "    sec.append(solicitud.split(ele,1)[0])\n",
    "    sec.append(ele)\n",
    "    #print(sec)\n",
    "    solicitud = solicitud.split(ele,1)[1]\n",
    "    #print(solicitud)\n",
    "    if pos == len(ops):\n",
    "        sec.append(solicitud)\n",
    "\n",
    "sec"
   ]
  },
  {
   "cell_type": "code",
   "execution_count": 22,
   "metadata": {},
   "outputs": [
    {
     "name": "stdout",
     "output_type": "stream",
     "text": [
      "3.0 + 2.0 = 5.0\n",
      "5.0 - 3.0 = 2.0\n"
     ]
    }
   ],
   "source": [
    "# Realizando las operaciones una por una    \n",
    "i = 0 \n",
    "res = float(sec[0])\n",
    "while i+2 <= (len(sec)-1) :\n",
    "    res = calculadora(res,sec[i+1],float(sec[i+2]))\n",
    "    i += 2\n"
   ]
  },
  {
   "cell_type": "code",
   "execution_count": null,
   "metadata": {},
   "outputs": [],
   "source": []
  }
 ],
 "metadata": {
  "kernelspec": {
   "display_name": "Python 3",
   "language": "python",
   "name": "python3"
  },
  "language_info": {
   "codemirror_mode": {
    "name": "ipython",
    "version": 3
   },
   "file_extension": ".py",
   "mimetype": "text/x-python",
   "name": "python",
   "nbconvert_exporter": "python",
   "pygments_lexer": "ipython3",
   "version": "3.12.1"
  }
 },
 "nbformat": 4,
 "nbformat_minor": 2
}
